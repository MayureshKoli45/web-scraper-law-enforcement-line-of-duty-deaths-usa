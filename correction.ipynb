{
 "cells": [
  {
   "cell_type": "code",
   "execution_count": 1,
   "id": "c13743f0",
   "metadata": {},
   "outputs": [],
   "source": [
    "import pandas as pd\n",
    "import numpy as np"
   ]
  },
  {
   "cell_type": "code",
   "execution_count": 2,
   "id": "4dd8f138",
   "metadata": {},
   "outputs": [],
   "source": [
    "police_df = pd.read_csv(\"police_deaths_USA.csv\")"
   ]
  },
  {
   "cell_type": "code",
   "execution_count": 3,
   "id": "b9a54a9e",
   "metadata": {},
   "outputs": [],
   "source": [
    "k9_df = pd.read_csv(\"k9_deaths_USA.csv\")"
   ]
  },
  {
   "cell_type": "code",
   "execution_count": 4,
   "id": "1782889b",
   "metadata": {},
   "outputs": [],
   "source": [
    "correction_data_points = k9_df[k9_df['Rank'] == 'K9 Officer']"
   ]
  },
  {
   "cell_type": "code",
   "execution_count": 5,
   "id": "34994205",
   "metadata": {},
   "outputs": [
    {
     "data": {
      "text/plain": [
       "Int64Index([316, 323, 433], dtype='int64')"
      ]
     },
     "execution_count": 5,
     "metadata": {},
     "output_type": "execute_result"
    }
   ],
   "source": [
    "correction_data_points.index"
   ]
  },
  {
   "cell_type": "code",
   "execution_count": 6,
   "id": "3551e5dc",
   "metadata": {},
   "outputs": [],
   "source": [
    "rows_to_remove = correction_data_points.index"
   ]
  },
  {
   "cell_type": "code",
   "execution_count": 7,
   "id": "ebd5d8b1",
   "metadata": {},
   "outputs": [],
   "source": [
    "for i in rows_to_remove:\n",
    "    k9_df = k9_df.drop(labels=i, axis=0)"
   ]
  },
  {
   "cell_type": "code",
   "execution_count": 8,
   "id": "b0789d56",
   "metadata": {},
   "outputs": [],
   "source": [
    "correction_data_points = correction_data_points.drop(['Breed', 'Gender'], axis=1)"
   ]
  },
  {
   "cell_type": "code",
   "execution_count": 9,
   "id": "d51248cb",
   "metadata": {},
   "outputs": [
    {
     "data": {
      "text/html": [
       "<div>\n",
       "<style scoped>\n",
       "    .dataframe tbody tr th:only-of-type {\n",
       "        vertical-align: middle;\n",
       "    }\n",
       "\n",
       "    .dataframe tbody tr th {\n",
       "        vertical-align: top;\n",
       "    }\n",
       "\n",
       "    .dataframe thead th {\n",
       "        text-align: right;\n",
       "    }\n",
       "</style>\n",
       "<table border=\"1\" class=\"dataframe\">\n",
       "  <thead>\n",
       "    <tr style=\"text-align: right;\">\n",
       "      <th></th>\n",
       "      <th>Rank</th>\n",
       "      <th>Name</th>\n",
       "      <th>Age</th>\n",
       "      <th>End_Of_Watch</th>\n",
       "      <th>Day_Of_Week</th>\n",
       "      <th>Cause</th>\n",
       "      <th>Department</th>\n",
       "      <th>State</th>\n",
       "      <th>Tour</th>\n",
       "      <th>Weapon</th>\n",
       "      <th>Offender</th>\n",
       "      <th>Summary</th>\n",
       "    </tr>\n",
       "  </thead>\n",
       "  <tbody>\n",
       "    <tr>\n",
       "      <th>316</th>\n",
       "      <td>K9 Officer</td>\n",
       "      <td>Ryan Patrick Copeland</td>\n",
       "      <td>33.0</td>\n",
       "      <td>2015-11-23</td>\n",
       "      <td>Monday</td>\n",
       "      <td>Automobile crash</td>\n",
       "      <td>McFarland Police Department, Wisconsin</td>\n",
       "      <td>Wisconsin</td>\n",
       "      <td>3 years</td>\n",
       "      <td>NaN</td>\n",
       "      <td>NaN</td>\n",
       "      <td>K9 Officer Ryan Copeland was killed in a vehic...</td>\n",
       "    </tr>\n",
       "    <tr>\n",
       "      <th>323</th>\n",
       "      <td>K9 Officer</td>\n",
       "      <td>Timothy James Brackeen</td>\n",
       "      <td>38.0</td>\n",
       "      <td>2016-09-12</td>\n",
       "      <td>Monday</td>\n",
       "      <td>Gunfire</td>\n",
       "      <td>Shelby Police Department, North Carolina</td>\n",
       "      <td>North Carolina</td>\n",
       "      <td>12 years</td>\n",
       "      <td>Gun; Unknown type</td>\n",
       "      <td>Sentenced to life</td>\n",
       "      <td>Police Officer Tim Brackeen succumbed to gunsh...</td>\n",
       "    </tr>\n",
       "    <tr>\n",
       "      <th>433</th>\n",
       "      <td>K9 Officer</td>\n",
       "      <td>Jordan Harris Sheldon</td>\n",
       "      <td>32.0</td>\n",
       "      <td>2019-05-04</td>\n",
       "      <td>Saturday</td>\n",
       "      <td>Gunfire</td>\n",
       "      <td>Mooresville Police Department, North Carolina</td>\n",
       "      <td>North Carolina</td>\n",
       "      <td>6 years</td>\n",
       "      <td>Gun; Unknown type</td>\n",
       "      <td>Committed suicide</td>\n",
       "      <td>Police Officer Jordan Sheldon was shot and kil...</td>\n",
       "    </tr>\n",
       "  </tbody>\n",
       "</table>\n",
       "</div>"
      ],
      "text/plain": [
       "           Rank                    Name   Age End_Of_Watch Day_Of_Week  \\\n",
       "316  K9 Officer   Ryan Patrick Copeland  33.0   2015-11-23      Monday   \n",
       "323  K9 Officer  Timothy James Brackeen  38.0   2016-09-12      Monday   \n",
       "433  K9 Officer   Jordan Harris Sheldon  32.0   2019-05-04    Saturday   \n",
       "\n",
       "                Cause                                     Department  \\\n",
       "316  Automobile crash         McFarland Police Department, Wisconsin   \n",
       "323           Gunfire       Shelby Police Department, North Carolina   \n",
       "433           Gunfire  Mooresville Police Department, North Carolina   \n",
       "\n",
       "              State      Tour             Weapon           Offender  \\\n",
       "316       Wisconsin   3 years                NaN                NaN   \n",
       "323  North Carolina  12 years  Gun; Unknown type  Sentenced to life   \n",
       "433  North Carolina   6 years  Gun; Unknown type  Committed suicide   \n",
       "\n",
       "                                               Summary  \n",
       "316  K9 Officer Ryan Copeland was killed in a vehic...  \n",
       "323  Police Officer Tim Brackeen succumbed to gunsh...  \n",
       "433  Police Officer Jordan Sheldon was shot and kil...  "
      ]
     },
     "execution_count": 9,
     "metadata": {},
     "output_type": "execute_result"
    }
   ],
   "source": [
    "correction_data_points"
   ]
  },
  {
   "cell_type": "code",
   "execution_count": 10,
   "id": "c13258d6",
   "metadata": {},
   "outputs": [],
   "source": [
    "badge_column = ['K8435', '763', np.nan]"
   ]
  },
  {
   "cell_type": "code",
   "execution_count": 11,
   "id": "5300a73d",
   "metadata": {},
   "outputs": [],
   "source": [
    "correction_data_points['Badge'] = badge_column"
   ]
  },
  {
   "cell_type": "code",
   "execution_count": 12,
   "id": "af264aad",
   "metadata": {},
   "outputs": [],
   "source": [
    "human_columns_order_list = ['Rank', 'Name', 'Age', 'End_Of_Watch', 'Day_Of_Week', 'Cause', 'Department', 'State', \n",
    "                            'Tour', 'Badge', 'Weapon', 'Offender', 'Summary']"
   ]
  },
  {
   "cell_type": "code",
   "execution_count": 13,
   "id": "494535c8",
   "metadata": {},
   "outputs": [],
   "source": [
    "correction_data_points = correction_data_points.reindex(columns=human_columns_order_list)"
   ]
  },
  {
   "cell_type": "code",
   "execution_count": 14,
   "id": "99ff505c",
   "metadata": {},
   "outputs": [
    {
     "data": {
      "text/html": [
       "<div>\n",
       "<style scoped>\n",
       "    .dataframe tbody tr th:only-of-type {\n",
       "        vertical-align: middle;\n",
       "    }\n",
       "\n",
       "    .dataframe tbody tr th {\n",
       "        vertical-align: top;\n",
       "    }\n",
       "\n",
       "    .dataframe thead th {\n",
       "        text-align: right;\n",
       "    }\n",
       "</style>\n",
       "<table border=\"1\" class=\"dataframe\">\n",
       "  <thead>\n",
       "    <tr style=\"text-align: right;\">\n",
       "      <th></th>\n",
       "      <th>Rank</th>\n",
       "      <th>Name</th>\n",
       "      <th>Age</th>\n",
       "      <th>End_Of_Watch</th>\n",
       "      <th>Day_Of_Week</th>\n",
       "      <th>Cause</th>\n",
       "      <th>Department</th>\n",
       "      <th>State</th>\n",
       "      <th>Tour</th>\n",
       "      <th>Badge</th>\n",
       "      <th>Weapon</th>\n",
       "      <th>Offender</th>\n",
       "      <th>Summary</th>\n",
       "    </tr>\n",
       "  </thead>\n",
       "  <tbody>\n",
       "    <tr>\n",
       "      <th>316</th>\n",
       "      <td>K9 Officer</td>\n",
       "      <td>Ryan Patrick Copeland</td>\n",
       "      <td>33.0</td>\n",
       "      <td>2015-11-23</td>\n",
       "      <td>Monday</td>\n",
       "      <td>Automobile crash</td>\n",
       "      <td>McFarland Police Department, Wisconsin</td>\n",
       "      <td>Wisconsin</td>\n",
       "      <td>3 years</td>\n",
       "      <td>K8435</td>\n",
       "      <td>NaN</td>\n",
       "      <td>NaN</td>\n",
       "      <td>K9 Officer Ryan Copeland was killed in a vehic...</td>\n",
       "    </tr>\n",
       "    <tr>\n",
       "      <th>323</th>\n",
       "      <td>K9 Officer</td>\n",
       "      <td>Timothy James Brackeen</td>\n",
       "      <td>38.0</td>\n",
       "      <td>2016-09-12</td>\n",
       "      <td>Monday</td>\n",
       "      <td>Gunfire</td>\n",
       "      <td>Shelby Police Department, North Carolina</td>\n",
       "      <td>North Carolina</td>\n",
       "      <td>12 years</td>\n",
       "      <td>763</td>\n",
       "      <td>Gun; Unknown type</td>\n",
       "      <td>Sentenced to life</td>\n",
       "      <td>Police Officer Tim Brackeen succumbed to gunsh...</td>\n",
       "    </tr>\n",
       "    <tr>\n",
       "      <th>433</th>\n",
       "      <td>K9 Officer</td>\n",
       "      <td>Jordan Harris Sheldon</td>\n",
       "      <td>32.0</td>\n",
       "      <td>2019-05-04</td>\n",
       "      <td>Saturday</td>\n",
       "      <td>Gunfire</td>\n",
       "      <td>Mooresville Police Department, North Carolina</td>\n",
       "      <td>North Carolina</td>\n",
       "      <td>6 years</td>\n",
       "      <td>NaN</td>\n",
       "      <td>Gun; Unknown type</td>\n",
       "      <td>Committed suicide</td>\n",
       "      <td>Police Officer Jordan Sheldon was shot and kil...</td>\n",
       "    </tr>\n",
       "  </tbody>\n",
       "</table>\n",
       "</div>"
      ],
      "text/plain": [
       "           Rank                    Name   Age End_Of_Watch Day_Of_Week  \\\n",
       "316  K9 Officer   Ryan Patrick Copeland  33.0   2015-11-23      Monday   \n",
       "323  K9 Officer  Timothy James Brackeen  38.0   2016-09-12      Monday   \n",
       "433  K9 Officer   Jordan Harris Sheldon  32.0   2019-05-04    Saturday   \n",
       "\n",
       "                Cause                                     Department  \\\n",
       "316  Automobile crash         McFarland Police Department, Wisconsin   \n",
       "323           Gunfire       Shelby Police Department, North Carolina   \n",
       "433           Gunfire  Mooresville Police Department, North Carolina   \n",
       "\n",
       "              State      Tour  Badge             Weapon           Offender  \\\n",
       "316       Wisconsin   3 years  K8435                NaN                NaN   \n",
       "323  North Carolina  12 years    763  Gun; Unknown type  Sentenced to life   \n",
       "433  North Carolina   6 years    NaN  Gun; Unknown type  Committed suicide   \n",
       "\n",
       "                                               Summary  \n",
       "316  K9 Officer Ryan Copeland was killed in a vehic...  \n",
       "323  Police Officer Tim Brackeen succumbed to gunsh...  \n",
       "433  Police Officer Jordan Sheldon was shot and kil...  "
      ]
     },
     "execution_count": 14,
     "metadata": {},
     "output_type": "execute_result"
    }
   ],
   "source": [
    "correction_data_points"
   ]
  },
  {
   "cell_type": "code",
   "execution_count": 15,
   "id": "b42903d6",
   "metadata": {},
   "outputs": [],
   "source": [
    "police_df = pd.concat([police_df, correction_data_points], ignore_index=True)"
   ]
  },
  {
   "cell_type": "code",
   "execution_count": 16,
   "id": "f90f8952",
   "metadata": {},
   "outputs": [
    {
     "data": {
      "text/html": [
       "<div>\n",
       "<style scoped>\n",
       "    .dataframe tbody tr th:only-of-type {\n",
       "        vertical-align: middle;\n",
       "    }\n",
       "\n",
       "    .dataframe tbody tr th {\n",
       "        vertical-align: top;\n",
       "    }\n",
       "\n",
       "    .dataframe thead th {\n",
       "        text-align: right;\n",
       "    }\n",
       "</style>\n",
       "<table border=\"1\" class=\"dataframe\">\n",
       "  <thead>\n",
       "    <tr style=\"text-align: right;\">\n",
       "      <th></th>\n",
       "      <th>Rank</th>\n",
       "      <th>Name</th>\n",
       "      <th>Age</th>\n",
       "      <th>End_Of_Watch</th>\n",
       "      <th>Day_Of_Week</th>\n",
       "      <th>Cause</th>\n",
       "      <th>Department</th>\n",
       "      <th>State</th>\n",
       "      <th>Tour</th>\n",
       "      <th>Badge</th>\n",
       "      <th>Weapon</th>\n",
       "      <th>Offender</th>\n",
       "      <th>Summary</th>\n",
       "    </tr>\n",
       "  </thead>\n",
       "  <tbody>\n",
       "    <tr>\n",
       "      <th>25618</th>\n",
       "      <td>Police Officer</td>\n",
       "      <td>Donald Sahota</td>\n",
       "      <td>52.0</td>\n",
       "      <td>2022-01-29</td>\n",
       "      <td>Saturday</td>\n",
       "      <td>Gunfire (Inadvertent)</td>\n",
       "      <td>Vancouver Police Department, Washington</td>\n",
       "      <td>Washington</td>\n",
       "      <td>27 years, 6 months</td>\n",
       "      <td>1531</td>\n",
       "      <td>Handgun</td>\n",
       "      <td>Arrested</td>\n",
       "      <td>Police Officer Donald Sahota was inadvertently...</td>\n",
       "    </tr>\n",
       "    <tr>\n",
       "      <th>25619</th>\n",
       "      <td>Deputy Sheriff</td>\n",
       "      <td>Ned P. Byrd</td>\n",
       "      <td>48.0</td>\n",
       "      <td>2022-08-11</td>\n",
       "      <td>Thursday</td>\n",
       "      <td>Gunfire</td>\n",
       "      <td>Wake County Sheriff's Office, North Carolina</td>\n",
       "      <td>North Carolina</td>\n",
       "      <td>13 years</td>\n",
       "      <td>397</td>\n",
       "      <td>Gun; Unknown type</td>\n",
       "      <td>In custody</td>\n",
       "      <td>Deputy Sheriff Ned Byrd was shot and killed wh...</td>\n",
       "    </tr>\n",
       "    <tr>\n",
       "      <th>25620</th>\n",
       "      <td>K9 Officer</td>\n",
       "      <td>Ryan Patrick Copeland</td>\n",
       "      <td>33.0</td>\n",
       "      <td>2015-11-23</td>\n",
       "      <td>Monday</td>\n",
       "      <td>Automobile crash</td>\n",
       "      <td>McFarland Police Department, Wisconsin</td>\n",
       "      <td>Wisconsin</td>\n",
       "      <td>3 years</td>\n",
       "      <td>K8435</td>\n",
       "      <td>NaN</td>\n",
       "      <td>NaN</td>\n",
       "      <td>K9 Officer Ryan Copeland was killed in a vehic...</td>\n",
       "    </tr>\n",
       "    <tr>\n",
       "      <th>25621</th>\n",
       "      <td>K9 Officer</td>\n",
       "      <td>Timothy James Brackeen</td>\n",
       "      <td>38.0</td>\n",
       "      <td>2016-09-12</td>\n",
       "      <td>Monday</td>\n",
       "      <td>Gunfire</td>\n",
       "      <td>Shelby Police Department, North Carolina</td>\n",
       "      <td>North Carolina</td>\n",
       "      <td>12 years</td>\n",
       "      <td>763</td>\n",
       "      <td>Gun; Unknown type</td>\n",
       "      <td>Sentenced to life</td>\n",
       "      <td>Police Officer Tim Brackeen succumbed to gunsh...</td>\n",
       "    </tr>\n",
       "    <tr>\n",
       "      <th>25622</th>\n",
       "      <td>K9 Officer</td>\n",
       "      <td>Jordan Harris Sheldon</td>\n",
       "      <td>32.0</td>\n",
       "      <td>2019-05-04</td>\n",
       "      <td>Saturday</td>\n",
       "      <td>Gunfire</td>\n",
       "      <td>Mooresville Police Department, North Carolina</td>\n",
       "      <td>North Carolina</td>\n",
       "      <td>6 years</td>\n",
       "      <td>NaN</td>\n",
       "      <td>Gun; Unknown type</td>\n",
       "      <td>Committed suicide</td>\n",
       "      <td>Police Officer Jordan Sheldon was shot and kil...</td>\n",
       "    </tr>\n",
       "  </tbody>\n",
       "</table>\n",
       "</div>"
      ],
      "text/plain": [
       "                 Rank                    Name   Age End_Of_Watch Day_Of_Week  \\\n",
       "25618  Police Officer           Donald Sahota  52.0   2022-01-29    Saturday   \n",
       "25619  Deputy Sheriff             Ned P. Byrd  48.0   2022-08-11    Thursday   \n",
       "25620      K9 Officer   Ryan Patrick Copeland  33.0   2015-11-23      Monday   \n",
       "25621      K9 Officer  Timothy James Brackeen  38.0   2016-09-12      Monday   \n",
       "25622      K9 Officer   Jordan Harris Sheldon  32.0   2019-05-04    Saturday   \n",
       "\n",
       "                       Cause                                     Department  \\\n",
       "25618  Gunfire (Inadvertent)        Vancouver Police Department, Washington   \n",
       "25619                Gunfire   Wake County Sheriff's Office, North Carolina   \n",
       "25620       Automobile crash         McFarland Police Department, Wisconsin   \n",
       "25621                Gunfire       Shelby Police Department, North Carolina   \n",
       "25622                Gunfire  Mooresville Police Department, North Carolina   \n",
       "\n",
       "                State                Tour  Badge             Weapon  \\\n",
       "25618      Washington  27 years, 6 months   1531            Handgun   \n",
       "25619  North Carolina            13 years    397  Gun; Unknown type   \n",
       "25620       Wisconsin             3 years  K8435                NaN   \n",
       "25621  North Carolina            12 years    763  Gun; Unknown type   \n",
       "25622  North Carolina             6 years    NaN  Gun; Unknown type   \n",
       "\n",
       "                Offender                                            Summary  \n",
       "25618           Arrested  Police Officer Donald Sahota was inadvertently...  \n",
       "25619         In custody  Deputy Sheriff Ned Byrd was shot and killed wh...  \n",
       "25620                NaN  K9 Officer Ryan Copeland was killed in a vehic...  \n",
       "25621  Sentenced to life  Police Officer Tim Brackeen succumbed to gunsh...  \n",
       "25622  Committed suicide  Police Officer Jordan Sheldon was shot and kil...  "
      ]
     },
     "execution_count": 16,
     "metadata": {},
     "output_type": "execute_result"
    }
   ],
   "source": [
    "police_df.tail(5)"
   ]
  },
  {
   "cell_type": "code",
   "execution_count": 17,
   "id": "4e83e145",
   "metadata": {},
   "outputs": [
    {
     "name": "stdout",
     "output_type": "stream",
     "text": [
      "<class 'pandas.core.frame.DataFrame'>\n",
      "RangeIndex: 25623 entries, 0 to 25622\n",
      "Data columns (total 13 columns):\n",
      " #   Column        Non-Null Count  Dtype  \n",
      "---  ------        --------------  -----  \n",
      " 0   Rank          25623 non-null  object \n",
      " 1   Name          25623 non-null  object \n",
      " 2   Age           22946 non-null  float64\n",
      " 3   End_Of_Watch  25623 non-null  object \n",
      " 4   Day_Of_Week   25623 non-null  object \n",
      " 5   Cause         25622 non-null  object \n",
      " 6   Department    25623 non-null  object \n",
      " 7   State         25623 non-null  object \n",
      " 8   Tour          17417 non-null  object \n",
      " 9   Badge         7482 non-null   object \n",
      " 10  Weapon        16263 non-null  object \n",
      " 11  Offender      13803 non-null  object \n",
      " 12  Summary       25623 non-null  object \n",
      "dtypes: float64(1), object(12)\n",
      "memory usage: 2.5+ MB\n"
     ]
    }
   ],
   "source": [
    "police_df.info()"
   ]
  },
  {
   "cell_type": "code",
   "execution_count": 18,
   "id": "3d1f2b67",
   "metadata": {},
   "outputs": [
    {
     "name": "stdout",
     "output_type": "stream",
     "text": [
      "<class 'pandas.core.frame.DataFrame'>\n",
      "Int64Index: 505 entries, 0 to 507\n",
      "Data columns (total 14 columns):\n",
      " #   Column        Non-Null Count  Dtype  \n",
      "---  ------        --------------  -----  \n",
      " 0   Rank          505 non-null    object \n",
      " 1   Name          505 non-null    object \n",
      " 2   Breed         504 non-null    object \n",
      " 3   Gender        446 non-null    object \n",
      " 4   Age           340 non-null    float64\n",
      " 5   End_Of_Watch  505 non-null    object \n",
      " 6   Day_Of_Week   505 non-null    object \n",
      " 7   Cause         505 non-null    object \n",
      " 8   Department    505 non-null    object \n",
      " 9   State         505 non-null    object \n",
      " 10  Tour          229 non-null    object \n",
      " 11  Weapon        230 non-null    object \n",
      " 12  Offender      172 non-null    object \n",
      " 13  Summary       505 non-null    object \n",
      "dtypes: float64(1), object(13)\n",
      "memory usage: 59.2+ KB\n"
     ]
    }
   ],
   "source": [
    "k9_df.info()"
   ]
  },
  {
   "cell_type": "code",
   "execution_count": 19,
   "id": "02765a93",
   "metadata": {},
   "outputs": [],
   "source": [
    "police_df.to_csv('final_police_deaths_USA.csv',index=False)\n",
    "k9_df.to_csv('final_k9_deaths_USA.csv',index=False)"
   ]
  }
 ],
 "metadata": {
  "kernelspec": {
   "display_name": "Python 3 (ipykernel)",
   "language": "python",
   "name": "python3"
  },
  "language_info": {
   "codemirror_mode": {
    "name": "ipython",
    "version": 3
   },
   "file_extension": ".py",
   "mimetype": "text/x-python",
   "name": "python",
   "nbconvert_exporter": "python",
   "pygments_lexer": "ipython3",
   "version": "3.10.3"
  }
 },
 "nbformat": 4,
 "nbformat_minor": 5
}
